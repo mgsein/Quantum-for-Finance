{
  "nbformat": 4,
  "nbformat_minor": 0,
  "metadata": {
    "colab": {
      "provenance": []
    },
    "kernelspec": {
      "name": "python3",
      "display_name": "Python 3"
    },
    "language_info": {
      "name": "python"
    }
  },
  "cells": [
    {
      "cell_type": "code",
      "source": [
        "import pandas as pd\n",
        "import numpy as np\n",
        "import pennylane as qml\n",
        "from pennylane import numpy as pnp\n",
        "from sklearn.preprocessing import MinMaxScaler\n",
        "from sklearn.metrics import mean_squared_error, r2_score"
      ],
      "metadata": {
        "colab": {
          "base_uri": "https://localhost:8080/"
        },
        "id": "ADyBW9Ilw43z",
        "outputId": "1ab08e09-fed8-46d9-ec12-3cb8344ab072"
      },
      "execution_count": 1,
      "outputs": [
        {
          "output_type": "stream",
          "name": "stderr",
          "text": [
            "/usr/local/lib/python3.12/dist-packages/pennylane/__init__.py:209: RuntimeWarning: PennyLane is not yet compatible with JAX versions > 0.6.2. You have version 0.7.2 installed. Please downgrade JAX to 0.6.2 to avoid runtime errors using python -m pip install jax~=0.6.0 jaxlib~=0.6.0\n",
            "  warnings.warn(\n"
          ]
        }
      ]
    },
    {
      "cell_type": "code",
      "source": [
        "# === 1. Load CSV data ===\n",
        "train = pd.read_csv(\"X_train.csv\")      # must contain 'Close'\n",
        "test = pd.read_csv(\"X_test.csv\")      # missing 'Close'"
      ],
      "metadata": {
        "id": "bXdvADCR2Kjc"
      },
      "execution_count": 2,
      "outputs": []
    },
    {
      "cell_type": "code",
      "source": [
        "# === 2. Prepare data ===\n",
        "features = ['Open', 'High', 'Low', 'Volume']\n",
        "train = train.dropna(subset=['Close'])\n",
        "X = train[features].values\n",
        "y = train['Close'].values"
      ],
      "metadata": {
        "id": "bpfYha7B2Kgf"
      },
      "execution_count": 3,
      "outputs": []
    },
    {
      "cell_type": "code",
      "source": [
        "# Normalize input features and targets\n",
        "scaler_X = MinMaxScaler()\n",
        "scaler_y = MinMaxScaler()\n",
        "X_scaled = scaler_X.fit_transform(X)\n",
        "y_scaled = scaler_y.fit_transform(y.reshape(-1, 1)).flatten()"
      ],
      "metadata": {
        "id": "hqaQpH7S2KeB"
      },
      "execution_count": 4,
      "outputs": []
    },
    {
      "cell_type": "code",
      "source": [
        "# === 3. Quantum device ===\n",
        "n_qubits = len(features)\n",
        "dev = qml.device(\"default.qubit\", wires=n_qubits)"
      ],
      "metadata": {
        "id": "OzOc6vfX2KYS"
      },
      "execution_count": 5,
      "outputs": []
    },
    {
      "cell_type": "code",
      "source": [
        "# === 4. Define variational circuit ===\n",
        "def circuit(params, x):\n",
        "    qml.AngleEmbedding(x, wires=range(n_qubits))\n",
        "    qml.StronglyEntanglingLayers(params, wires=range(n_qubits))\n",
        "    return qml.expval(qml.PauliZ(0))\n",
        "\n",
        "@qml.qnode(dev)\n",
        "def qnode(params, x):\n",
        "    return circuit(params, x)"
      ],
      "metadata": {
        "id": "CkjoP6Lo2KPi"
      },
      "execution_count": 6,
      "outputs": []
    },
    {
      "cell_type": "code",
      "source": [
        "# === 5. Define quantum regression model ===\n",
        "class QuantumRegressor:\n",
        "    def __init__(self, n_layers=2):\n",
        "        self.n_layers = n_layers\n",
        "        self.params = pnp.random.uniform(low=0, high=np.pi, size=(n_layers, n_qubits, 3))\n",
        "\n",
        "    def predict(self, X):\n",
        "        preds = []\n",
        "        for x in X:\n",
        "            result = qnode(self.params, x)\n",
        "            preds.append(float(result))  # convert ArrayBox -> float\n",
        "        return np.array(preds)\n",
        "\n",
        "    def fit(self, X, y, lr=0.1, epochs=50):\n",
        "        opt = qml.GradientDescentOptimizer(stepsize=lr)\n",
        "        for epoch in range(epochs):\n",
        "            self.params, loss = self._step(opt, X, y)\n",
        "            if epoch % 10 == 0:\n",
        "                print(f\"Epoch {epoch}: loss = {loss:.4f}\")\n",
        "\n",
        "    def _step(self, opt, X, y):\n",
        "        def cost(params):\n",
        "            preds = pnp.array([qnode(params, x) for x in X])\n",
        "            return pnp.mean((preds - y) ** 2)\n",
        "        new_params = opt.step(cost, self.params)\n",
        "        loss = cost(self.params)\n",
        "        return new_params, float(loss)  # cast loss to float for printing"
      ],
      "metadata": {
        "id": "G99sPjUH2tG2"
      },
      "execution_count": 7,
      "outputs": []
    },
    {
      "cell_type": "code",
      "source": [
        "# === 6. Train the model ===\n",
        "qml_model = QuantumRegressor()\n",
        "qml_model.fit(X_scaled, y_scaled, lr=0.2, epochs=60)"
      ],
      "metadata": {
        "colab": {
          "base_uri": "https://localhost:8080/"
        },
        "id": "3p9YD7j12tEg",
        "outputId": "28e22b90-ae7e-40cc-dc8f-17c304003cdc"
      },
      "execution_count": 8,
      "outputs": [
        {
          "output_type": "stream",
          "name": "stdout",
          "text": [
            "Epoch 0: loss = 0.5844\n",
            "Epoch 10: loss = 0.2403\n",
            "Epoch 20: loss = 0.0495\n",
            "Epoch 30: loss = 0.0331\n",
            "Epoch 40: loss = 0.0253\n",
            "Epoch 50: loss = 0.0198\n"
          ]
        }
      ]
    },
    {
      "cell_type": "code",
      "source": [
        "# === 7. Evaluate ===\n",
        "y_train_pred_scaled = qml_model.predict(X_scaled)\n",
        "y_train_pred = scaler_y.inverse_transform(y_train_pred_scaled.reshape(-1, 1)).flatten()\n",
        "\n",
        "mse = mean_squared_error(train['Close'], y_train_pred)\n",
        "r2 = r2_score(train['Close'], y_train_pred)\n",
        "print(f\"\\n🔍 Training MSE: {mse:.4f}\")\n",
        "print(f\"🔍 Training R²: {r2:.4f}\")"
      ],
      "metadata": {
        "colab": {
          "base_uri": "https://localhost:8080/"
        },
        "id": "lttrBM47Armq",
        "outputId": "7f9cecf2-b526-4a57-8e2f-dfd36c7c18b2"
      },
      "execution_count": 9,
      "outputs": [
        {
          "output_type": "stream",
          "name": "stdout",
          "text": [
            "\n",
            "🔍 Training MSE: 36305.6962\n",
            "🔍 Training R²: 0.6686\n"
          ]
        }
      ]
    },
    {
      "cell_type": "code",
      "source": [
        "# === 8. Predict missing Close values in test set ===\n",
        "X_test = test[features].values\n",
        "X_test_scaled = scaler_X.transform(X_test)\n",
        "y_pred_scaled = qml_model.predict(X_test_scaled)\n",
        "y_pred = scaler_y.inverse_transform(y_pred_scaled.reshape(-1, 1)).flatten()\n",
        "\n",
        "\n"
      ],
      "metadata": {
        "id": "8UFb_bLT2tBe"
      },
      "execution_count": 10,
      "outputs": []
    },
    {
      "cell_type": "code",
      "source": [
        "# === 9. Save results ===\n",
        "test['Predicted_Close_Val'] = y_pred\n",
        "test.to_csv(\"predictions.csv\", index=False)\n",
        "\n",
        "print(\"✅ Quantum prediction complete! Results saved to 'prediction.csv'\")"
      ],
      "metadata": {
        "colab": {
          "base_uri": "https://localhost:8080/"
        },
        "id": "aCZ0l1xZ2s9Q",
        "outputId": "d7b0d793-455c-4765-e90f-3bd37dbd4c20"
      },
      "execution_count": 11,
      "outputs": [
        {
          "output_type": "stream",
          "name": "stdout",
          "text": [
            "✅ Quantum prediction complete! Results saved to 'prediction.csv'\n"
          ]
        }
      ]
    },
    {
      "cell_type": "code",
      "source": [],
      "metadata": {
        "id": "YSvpP4hT2s1_"
      },
      "execution_count": 11,
      "outputs": []
    }
  ]
}